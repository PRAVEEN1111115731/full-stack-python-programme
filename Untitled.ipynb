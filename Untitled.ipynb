{
 "cells": [
  {
   "cell_type": "code",
   "execution_count": null,
   "id": "d9dfb84f-918b-4c21-878c-311c292b7e5d",
   "metadata": {},
   "outputs": [],
   "source": []
  },
  {
   "cell_type": "code",
   "execution_count": 7,
   "id": "aaaf7e91-c8d9-4b33-8693-37a5a076bb63",
   "metadata": {},
   "outputs": [
    {
     "name": "stdout",
     "output_type": "stream",
     "text": [
      "hello,Python Full Stack Student!\n"
     ]
    }
   ],
   "source": [
    "print(\"hello,Python Full Stack Student!\")"
   ]
  },
  {
   "cell_type": "code",
   "execution_count": 8,
   "id": "9261a89e-9fbd-45f8-a90d-3d7e20ce1e29",
   "metadata": {},
   "outputs": [
    {
     "name": "stdout",
     "output_type": "stream",
     "text": [
      "Hello,EVERYONE!\n"
     ]
    }
   ],
   "source": [
    "print(\"Hello,EVERYONE!\")"
   ]
  },
  {
   "cell_type": "code",
   "execution_count": 12,
   "id": "ea00ba7a-c059-4867-bcb3-146387f9c116",
   "metadata": {},
   "outputs": [
    {
     "name": "stdout",
     "output_type": "stream",
     "text": [
      "I am praveen\n"
     ]
    }
   ],
   "source": [
    "print(\"I am praveen\")"
   ]
  },
  {
   "cell_type": "code",
   "execution_count": 13,
   "id": "218eedd2-a458-46f7-b625-af8423541077",
   "metadata": {},
   "outputs": [
    {
     "name": "stdout",
     "output_type": "stream",
     "text": [
      "how was the day?\n"
     ]
    }
   ],
   "source": [
    "print(\"how was the day?\")"
   ]
  },
  {
   "cell_type": "code",
   "execution_count": 14,
   "id": "97f1b2a0-82f4-40be-8211-a874561c8499",
   "metadata": {},
   "outputs": [
    {
     "name": "stdout",
     "output_type": "stream",
     "text": [
      "python is a easy concept.\n"
     ]
    }
   ],
   "source": [
    "print(\"python is a easy concept.\")"
   ]
  },
  {
   "cell_type": "code",
   "execution_count": 21,
   "id": "8e69a638-b777-4dee-8187-0ee048a5f8cc",
   "metadata": {},
   "outputs": [
    {
     "name": "stdout",
     "output_type": "stream",
     "text": [
      "PRAVEEN 19 7.5 True\n"
     ]
    }
   ],
   "source": [
    "name=\"PRAVEEN\"\n",
    "age=19\n",
    "gpa=7.5\n",
    "is_student=True\n",
    "print(name,age,gpa,is_student)"
   ]
  },
  {
   "cell_type": "code",
   "execution_count": 23,
   "id": "6de9e4bc-a8aa-4480-82b7-61d6cefbd281",
   "metadata": {},
   "outputs": [
    {
     "name": "stdout",
     "output_type": "stream",
     "text": [
      "<class 'int'> <class 'float'> <class 'str'> <class 'bool'>\n"
     ]
    }
   ],
   "source": [
    "x=10\n",
    "y=3.14\n",
    "z=\"Python\"\n",
    "flag=False\n",
    "print(type(x),type(y),type(z),type(flag))"
   ]
  },
  {
   "cell_type": "code",
   "execution_count": 28,
   "id": "a44c6f6a-a43b-4562-8112-4fbc56ee3fab",
   "metadata": {},
   "outputs": [
    {
     "name": "stdout",
     "output_type": "stream",
     "text": [
      "praveen avinash Python\n"
     ]
    }
   ],
   "source": [
    "name=\"praveen\"\n",
    "college=\"avinash\"\n",
    "favorite_programming_language=\"Python\"\n",
    "print(name,college,favorite_programming_language)"
   ]
  },
  {
   "cell_type": "code",
   "execution_count": 30,
   "id": "37c5b78d-2125-4025-af08-93b87dd94889",
   "metadata": {},
   "outputs": [
    {
     "name": "stdout",
     "output_type": "stream",
     "text": [
      "19\n"
     ]
    }
   ],
   "source": [
    "birth_year=2006\n",
    "current_year=2025\n",
    "print(current_year-birth_year)"
   ]
  },
  {
   "cell_type": "code",
   "execution_count": 31,
   "id": "acecbbe8-e5a2-4903-a16d-72f6b4a8f856",
   "metadata": {},
   "outputs": [
    {
     "name": "stdout",
     "output_type": "stream",
     "text": [
      "kuli 2025 good\n"
     ]
    }
   ],
   "source": [
    "movie_name=\"kuli\"\n",
    "release_year=2025\n",
    "rating=\"good\"\n",
    "print(movie_name,release_year,rating)"
   ]
  },
  {
   "cell_type": "code",
   "execution_count": 32,
   "id": "4f1655ab-d085-436c-9a92-a38bbaed3add",
   "metadata": {},
   "outputs": [
    {
     "name": "stdout",
     "output_type": "stream",
     "text": [
      "addition: 19\n"
     ]
    }
   ],
   "source": [
    "a=15\n",
    "b=4\n",
    "print(\"addition:\",a+b)"
   ]
  },
  {
   "cell_type": "code",
   "execution_count": 33,
   "id": "bb2010c4-f3bc-4f96-8937-63d074a427be",
   "metadata": {},
   "outputs": [
    {
     "name": "stdout",
     "output_type": "stream",
     "text": [
      "division: 3.75\n"
     ]
    }
   ],
   "source": [
    "a=15\n",
    "b=4\n",
    "print(\"division:\",a/b)"
   ]
  },
  {
   "cell_type": "code",
   "execution_count": 34,
   "id": "c20b8b36-8563-4bb1-aa6c-21ba0ea54d00",
   "metadata": {},
   "outputs": [
    {
     "name": "stdout",
     "output_type": "stream",
     "text": [
      "floor division: 3\n"
     ]
    }
   ],
   "source": [
    "a=15\n",
    "b=4\n",
    "print(\"floor division:\",a//b)"
   ]
  },
  {
   "cell_type": "code",
   "execution_count": 35,
   "id": "87cc8516-d897-495d-8b29-2e3083b45ab8",
   "metadata": {},
   "outputs": [
    {
     "name": "stdout",
     "output_type": "stream",
     "text": [
      "power: 50625\n"
     ]
    }
   ],
   "source": [
    "a=15\n",
    "b=4\n",
    "print(\"power:\",a**b)"
   ]
  },
  {
   "cell_type": "code",
   "execution_count": 36,
   "id": "ea4cba6d-cf5c-47f7-ae9c-9c92d5213075",
   "metadata": {},
   "outputs": [
    {
     "name": "stdout",
     "output_type": "stream",
     "text": [
      "addition: 19\n",
      "division: 3.75\n",
      "floor: 3\n",
      "power: 50625\n"
     ]
    }
   ],
   "source": [
    "a=15\n",
    "b=4\n",
    "print(\"addition:\",a+b)\n",
    "print(\"division:\",a/b)\n",
    "print(\"floor:\",a//b)\n",
    "print(\"power:\",a**b)"
   ]
  },
  {
   "cell_type": "code",
   "execution_count": 38,
   "id": "60d6079e-ec8d-41f4-ad09-b63e9648e2b1",
   "metadata": {},
   "outputs": [
    {
     "name": "stdout",
     "output_type": "stream",
     "text": [
      "False\n",
      "True\n",
      "True\n"
     ]
    }
   ],
   "source": [
    "a=10\n",
    "b=20\n",
    "print(a>b)#\n",
    "print(a==10)\n",
    "print((a<b)and(b==20))"
   ]
  },
  {
   "cell_type": "code",
   "execution_count": null,
   "id": "610b2be8-1ff7-41eb-b596-c8f4938cb65e",
   "metadata": {},
   "outputs": [],
   "source": [
    "ssss"
   ]
  }
 ],
 "metadata": {
  "kernelspec": {
   "display_name": "Python [conda env:base] *",
   "language": "python",
   "name": "conda-base-py"
  },
  "language_info": {
   "codemirror_mode": {
    "name": "ipython",
    "version": 3
   },
   "file_extension": ".py",
   "mimetype": "text/x-python",
   "name": "python",
   "nbconvert_exporter": "python",
   "pygments_lexer": "ipython3",
   "version": "3.13.5"
  }
 },
 "nbformat": 4,
 "nbformat_minor": 5
}
