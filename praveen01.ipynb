{
 "cells": [
  {
   "cell_type": "code",
   "execution_count": null,
   "id": "d9dfb84f-918b-4c21-878c-311c292b7e5d",
   "metadata": {},
   "outputs": [],
   "source": []
  },
  {
   "cell_type": "code",
   "execution_count": 7,
   "id": "aaaf7e91-c8d9-4b33-8693-37a5a076bb63",
   "metadata": {},
   "outputs": [
    {
     "name": "stdout",
     "output_type": "stream",
     "text": [
      "hello,Python Full Stack Student!\n"
     ]
    }
   ],
   "source": [
    "print(\"hello,Python Full Stack Student!\")"
   ]
  },
  {
   "cell_type": "code",
   "execution_count": 8,
   "id": "9261a89e-9fbd-45f8-a90d-3d7e20ce1e29",
   "metadata": {},
   "outputs": [
    {
     "name": "stdout",
     "output_type": "stream",
     "text": [
      "Hello,EVERYONE!\n"
     ]
    }
   ],
   "source": [
    "print(\"Hello,EVERYONE!\")"
   ]
  },
  {
   "cell_type": "code",
   "execution_count": 12,
   "id": "ea00ba7a-c059-4867-bcb3-146387f9c116",
   "metadata": {},
   "outputs": [
    {
     "name": "stdout",
     "output_type": "stream",
     "text": [
      "I am praveen\n"
     ]
    }
   ],
   "source": [
    "print(\"I am praveen\")"
   ]
  },
  {
   "cell_type": "code",
   "execution_count": 13,
   "id": "218eedd2-a458-46f7-b625-af8423541077",
   "metadata": {},
   "outputs": [
    {
     "name": "stdout",
     "output_type": "stream",
     "text": [
      "how was the day?\n"
     ]
    }
   ],
   "source": [
    "print(\"how was the day?\")"
   ]
  },
  {
   "cell_type": "code",
   "execution_count": 14,
   "id": "97f1b2a0-82f4-40be-8211-a874561c8499",
   "metadata": {},
   "outputs": [
    {
     "name": "stdout",
     "output_type": "stream",
     "text": [
      "python is a easy concept.\n"
     ]
    }
   ],
   "source": [
    "print(\"python is a easy concept.\")"
   ]
  },
  {
   "cell_type": "code",
   "execution_count": 21,
   "id": "8e69a638-b777-4dee-8187-0ee048a5f8cc",
   "metadata": {},
   "outputs": [
    {
     "name": "stdout",
     "output_type": "stream",
     "text": [
      "PRAVEEN 19 7.5 True\n"
     ]
    }
   ],
   "source": [
    "name=\"PRAVEEN\"\n",
    "age=19\n",
    "gpa=7.5\n",
    "is_student=True\n",
    "print(name,age,gpa,is_student)"
   ]
  },
  {
   "cell_type": "code",
   "execution_count": 23,
   "id": "6de9e4bc-a8aa-4480-82b7-61d6cefbd281",
   "metadata": {},
   "outputs": [
    {
     "name": "stdout",
     "output_type": "stream",
     "text": [
      "<class 'int'> <class 'float'> <class 'str'> <class 'bool'>\n"
     ]
    }
   ],
   "source": [
    "x=10\n",
    "y=3.14\n",
    "z=\"Python\"\n",
    "flag=False\n",
    "print(type(x),type(y),type(z),type(flag))"
   ]
  },
  {
   "cell_type": "code",
   "execution_count": 28,
   "id": "a44c6f6a-a43b-4562-8112-4fbc56ee3fab",
   "metadata": {},
   "outputs": [
    {
     "name": "stdout",
     "output_type": "stream",
     "text": [
      "praveen avinash Python\n"
     ]
    }
   ],
   "source": [
    "name=\"praveen\"\n",
    "college=\"avinash\"\n",
    "favorite_programming_language=\"Python\"\n",
    "print(name,college,favorite_programming_language)"
   ]
  },
  {
   "cell_type": "code",
   "execution_count": 30,
   "id": "37c5b78d-2125-4025-af08-93b87dd94889",
   "metadata": {},
   "outputs": [
    {
     "name": "stdout",
     "output_type": "stream",
     "text": [
      "19\n"
     ]
    }
   ],
   "source": [
    "birth_year=2006\n",
    "current_year=2025\n",
    "print(current_year-birth_year)"
   ]
  },
  {
   "cell_type": "code",
   "execution_count": 31,
   "id": "acecbbe8-e5a2-4903-a16d-72f6b4a8f856",
   "metadata": {},
   "outputs": [
    {
     "name": "stdout",
     "output_type": "stream",
     "text": [
      "kuli 2025 good\n"
     ]
    }
   ],
   "source": [
    "movie_name=\"kuli\"\n",
    "release_year=2025\n",
    "rating=\"good\"\n",
    "print(movie_name,release_year,rating)"
   ]
  },
  {
   "cell_type": "code",
   "execution_count": 32,
   "id": "4f1655ab-d085-436c-9a92-a38bbaed3add",
   "metadata": {},
   "outputs": [
    {
     "name": "stdout",
     "output_type": "stream",
     "text": [
      "addition: 19\n"
     ]
    }
   ],
   "source": [
    "a=15\n",
    "b=4\n",
    "print(\"addition:\",a+b)"
   ]
  },
  {
   "cell_type": "code",
   "execution_count": 33,
   "id": "bb2010c4-f3bc-4f96-8937-63d074a427be",
   "metadata": {},
   "outputs": [
    {
     "name": "stdout",
     "output_type": "stream",
     "text": [
      "division: 3.75\n"
     ]
    }
   ],
   "source": [
    "a=15\n",
    "b=4\n",
    "print(\"division:\",a/b)"
   ]
  },
  {
   "cell_type": "code",
   "execution_count": 34,
   "id": "c20b8b36-8563-4bb1-aa6c-21ba0ea54d00",
   "metadata": {},
   "outputs": [
    {
     "name": "stdout",
     "output_type": "stream",
     "text": [
      "floor division: 3\n"
     ]
    }
   ],
   "source": [
    "a=15\n",
    "b=4\n",
    "print(\"floor division:\",a//b)"
   ]
  },
  {
   "cell_type": "code",
   "execution_count": 35,
   "id": "87cc8516-d897-495d-8b29-2e3083b45ab8",
   "metadata": {},
   "outputs": [
    {
     "name": "stdout",
     "output_type": "stream",
     "text": [
      "power: 50625\n"
     ]
    }
   ],
   "source": [
    "a=15\n",
    "b=4\n",
    "print(\"power:\",a**b)"
   ]
  },
  {
   "cell_type": "code",
   "execution_count": 36,
   "id": "ea4cba6d-cf5c-47f7-ae9c-9c92d5213075",
   "metadata": {},
   "outputs": [
    {
     "name": "stdout",
     "output_type": "stream",
     "text": [
      "addition: 19\n",
      "division: 3.75\n",
      "floor: 3\n",
      "power: 50625\n"
     ]
    }
   ],
   "source": [
    "a=15\n",
    "b=4\n",
    "print(\"addition:\",a+b)\n",
    "print(\"division:\",a/b)\n",
    "print(\"floor:\",a//b)\n",
    "print(\"power:\",a**b)"
   ]
  },
  {
   "cell_type": "code",
   "execution_count": 38,
   "id": "60d6079e-ec8d-41f4-ad09-b63e9648e2b1",
   "metadata": {},
   "outputs": [
    {
     "name": "stdout",
     "output_type": "stream",
     "text": [
      "False\n",
      "True\n",
      "True\n"
     ]
    }
   ],
   "source": [
    "a=10\n",
    "b=20\n",
    "print(a>b)#\n",
    "print(a==10)\n",
    "print((a<b)and(b==20))"
   ]
  },
  {
   "cell_type": "code",
   "execution_count": 9,
   "id": "610b2be8-1ff7-41eb-b596-c8f4938cb65e",
   "metadata": {},
   "outputs": [
    {
     "name": "stdout",
     "output_type": "stream",
     "text": [
      "['apple', 'banana', 'orange']\n",
      "banana\n"
     ]
    }
   ],
   "source": [
    "fruits=[\"apple\",\"banana\",\"mango\"]\n",
    "fruits.append(\"orange\")\n",
    "fruits.remove(\"mango\")\n",
    "fruits.sort()\n",
    "print(fruits)\n",
    "print(fruits[1])"
   ]
  },
  {
   "cell_type": "code",
   "execution_count": 10,
   "id": "787ccc69-72b3-4a08-946a-bcd0af97402e",
   "metadata": {},
   "outputs": [
    {
     "name": "stdout",
     "output_type": "stream",
     "text": [
      "['prashanth', 'praveen', 'sai ram']\n"
     ]
    }
   ],
   "source": [
    "name=[\"praveen\",\"prashanth\",\"nikhil\"]\n",
    "name.append(\"sai ram\")\n",
    "name.remove(\"nikhil\")\n",
    "name.sort()\n",
    "print(name)"
   ]
  },
  {
   "cell_type": "code",
   "execution_count": 11,
   "id": "7b46a30d-58de-40f0-882f-18f26dadf7d4",
   "metadata": {},
   "outputs": [
    {
     "name": "stdout",
     "output_type": "stream",
     "text": [
      "['blue', 'green', 'yellow']\n"
     ]
    }
   ],
   "source": [
    "colors=[\"yellow\",\"red\",\"green\"]\n",
    "colors.append(\"blue\")\n",
    "colors.remove(\"red\")\n",
    "colors.sort()\n",
    "print(colors)\n"
   ]
  },
  {
   "cell_type": "code",
   "execution_count": 14,
   "id": "7be3129e-2fe2-4df8-b0fb-ef6c8d5dab85",
   "metadata": {},
   "outputs": [
    {
     "name": "stdout",
     "output_type": "stream",
     "text": [
      "red\n"
     ]
    },
    {
     "data": {
      "text/plain": [
       "'green'"
      ]
     },
     "execution_count": 14,
     "metadata": {},
     "output_type": "execute_result"
    }
   ],
   "source": [
    "colors=(\"red\",\"green\",\"blue\")\n",
    "print(colors[0])\n",
    "colors[1]\n"
   ]
  },
  {
   "cell_type": "code",
   "execution_count": 15,
   "id": "a98648e1-6216-4954-9098-723b2fa1dbaf",
   "metadata": {},
   "outputs": [
    {
     "name": "stdout",
     "output_type": "stream",
     "text": [
      "{1, 2, 3, 4, 5}\n"
     ]
    }
   ],
   "source": [
    "numbers={1,2,3,3,4}\n",
    "numbers.add(5)\n",
    "print(numbers)"
   ]
  },
  {
   "cell_type": "code",
   "execution_count": 16,
   "id": "02a0d46e-e42a-4946-be0a-a6f32d2ebcdc",
   "metadata": {},
   "outputs": [
    {
     "name": "stdout",
     "output_type": "stream",
     "text": [
      "{1, 2, 3, 4, 5, 6}\n"
     ]
    }
   ],
   "source": [
    "numbers={1,2,3,4,4,5}\n",
    "numbers.add(6)\n",
    "print(numbers)\n"
   ]
  },
  {
   "cell_type": "code",
   "execution_count": 25,
   "id": "344c18fb-55c7-4261-85e1-8d0e1ded69c1",
   "metadata": {},
   "outputs": [
    {
     "name": "stdout",
     "output_type": "stream",
     "text": [
      "praveen kumar\n",
      "dict_keys(['name', 'age', 'course', 'college'])\n",
      "dict_values(['praveen kumar', 20, 'python full stack', 'ABC University'])\n",
      "{'name': 'praveen kumar', 'age': 20, 'course': 'python full stack', 'college': 'ABC University'}\n"
     ]
    }
   ],
   "source": [
    "student={\n",
    "    \"name\":\"praveen kumar\",\n",
    "    \"age\":19,\n",
    "    \"course\":\"python full stack\"\n",
    "}\n",
    "print(student[\"name\"])\n",
    "student[\"age\"]=20\n",
    "student[\"college\"]=\"ABC University\"\n",
    "print(student.keys())\n",
    "print(student.values())\n",
    "print(student)"
   ]
  },
  {
   "cell_type": "code",
   "execution_count": 27,
   "id": "509216cd-66d1-4cff-ac89-92a9a415111b",
   "metadata": {},
   "outputs": [
    {
     "name": "stdout",
     "output_type": "stream",
     "text": [
      "grade:B\n"
     ]
    }
   ],
   "source": [
    "marks=75\n",
    "if marks>=90:\n",
    "    print(\"grade:A\")\n",
    "elif marks>=75:\n",
    "    print(\"grade:B\")\n",
    "elif marks>50:\n",
    "    print(\"grade:C\")\n",
    "else:\n",
    "    print(\"grade:Fail\")\n",
    "    "
   ]
  },
  {
   "cell_type": "code",
   "execution_count": 28,
   "id": "d41cda8b-7fc0-4d6a-8d76-05e280eb92f2",
   "metadata": {},
   "outputs": [
    {
     "name": "stdout",
     "output_type": "stream",
     "text": [
      "number: 1\n",
      "number: 2\n",
      "number: 3\n",
      "number: 4\n",
      "number: 5\n"
     ]
    }
   ],
   "source": [
    "for i in range(1,6):\n",
    "    print(\"number:\",i)"
   ]
  },
  {
   "cell_type": "code",
   "execution_count": 2,
   "id": "c1610480-a406-4e4e-9b99-b9de79b4ebe3",
   "metadata": {},
   "outputs": [
    {
     "name": "stdout",
     "output_type": "stream",
     "text": [
      "number: 1\n",
      "number: 2\n",
      "number: 3\n",
      "number: 4\n",
      "number: 5\n",
      "number: 6\n",
      "number: 7\n",
      "number: 8\n"
     ]
    }
   ],
   "source": [
    "for i in range(1,9):\n",
    "    print(\"number:\",i)"
   ]
  },
  {
   "cell_type": "code",
   "execution_count": 30,
   "id": "e1b4c9d6-4dae-46ae-891c-966447c16ee1",
   "metadata": {},
   "outputs": [
    {
     "name": "stdout",
     "output_type": "stream",
     "text": [
      "count: 1\n",
      "count: 2\n",
      "count: 3\n",
      "count: 4\n",
      "count: 5\n"
     ]
    }
   ],
   "source": [
    "count=1\n",
    "while count<=5:\n",
    "    print(\"count:\",count)\n",
    "    count+=1"
   ]
  },
  {
   "cell_type": "code",
   "execution_count": 3,
   "id": "258d6247-9b40-496b-8c54-4ddcbc8294e1",
   "metadata": {},
   "outputs": [
    {
     "name": "stdout",
     "output_type": "stream",
     "text": [
      "1\n",
      "2\n",
      "3\n",
      "4\n",
      "5\n",
      "6\n",
      "7\n",
      "8\n",
      "9\n"
     ]
    }
   ],
   "source": [
    "for i in range(1,10000000):\n",
    "    if i==10:\n",
    "        break\n",
    "    print(i)"
   ]
  },
  {
   "cell_type": "code",
   "execution_count": null,
   "id": "29be14bf-9676-4d4b-85b1-4d2d2223358b",
   "metadata": {},
   "outputs": [],
   "source": []
  }
 ],
 "metadata": {
  "kernelspec": {
   "display_name": "Python [conda env:base] *",
   "language": "python",
   "name": "conda-base-py"
  },
  "language_info": {
   "codemirror_mode": {
    "name": "ipython",
    "version": 3
   },
   "file_extension": ".py",
   "mimetype": "text/x-python",
   "name": "python",
   "nbconvert_exporter": "python",
   "pygments_lexer": "ipython3",
   "version": "3.13.5"
  }
 },
 "nbformat": 4,
 "nbformat_minor": 5
}
